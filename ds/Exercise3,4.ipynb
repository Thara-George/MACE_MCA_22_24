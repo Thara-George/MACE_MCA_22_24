{
  "nbformat": 4,
  "nbformat_minor": 0,
  "metadata": {
    "colab": {
      "provenance": []
    },
    "kernelspec": {
      "name": "python3",
      "display_name": "Python 3"
    },
    "language_info": {
      "name": "python"
    }
  },
  "cells": [
    {
      "cell_type": "markdown",
      "source": [
        "scikit learn"
      ],
      "metadata": {
        "id": "1HFLryjGznK0"
      }
    },
    {
      "cell_type": "markdown",
      "source": [
        "Lab Exercise 4 (Implement KNN algorithm using Python to predict the label of a new instance)\n",
        "Using Built-in functions"
      ],
      "metadata": {
        "id": "AwhnlQpaR6dJ"
      }
    },
    {
      "cell_type": "code",
      "source": [
        "from sklearn.neighbors import KNeighborsClassifier\n",
        "from sklearn.model_selection import train_test_split\n",
        "from sklearn.datasets import load_iris\n",
        "irisData=load_iris()"
      ],
      "metadata": {
        "id": "Sq8ZlyKk3fid"
      },
      "execution_count": null,
      "outputs": []
    },
    {
      "cell_type": "code",
      "source": [
        "import numpy as np\n",
        "X = irisData.data\n",
        "y = irisData.target\n",
        "X_train, X_test, y_train, y_test = train_test_split(X, y, test_size=0.2, random_state=42)\n",
        "knn = KNeighborsClassifier(n_neighbors=7)\n",
        "\n",
        "knn.fit(X_train, y_train)\n",
        "\n",
        "new_data_point = [[5.1, 3.5, 1.4, 0.2]]\n",
        "predicted_class = knn.predict(new_data_point)\n",
        "\n",
        "print(\"Predicted class:\", predicted_class)\n"
      ],
      "metadata": {
        "colab": {
          "base_uri": "https://localhost:8080/"
        },
        "id": "Ur5V6foeEwco",
        "outputId": "de3982fc-85f9-4314-e266-cdbc012b6522"
      },
      "execution_count": null,
      "outputs": [
        {
          "output_type": "stream",
          "name": "stdout",
          "text": [
            "Predicted class: [0]\n"
          ]
        }
      ]
    },
    {
      "cell_type": "markdown",
      "source": [
        "KNN algorithm from scratch"
      ],
      "metadata": {
        "id": "ybaLA89TSqBa"
      }
    },
    {
      "cell_type": "code",
      "source": [
        "import numpy as np\n",
        "X_train = np.array([[5.1, 3.5, 1.4, 0.2],[4.9, 3.0, 1.4, 0.2],[6.2, 2.9, 4.3, 1.3],[7.2, 3.6, 6.1, 2.5]])\n",
        "y_train = np.array(['setosa', 'setosa', 'versicolor', 'virginica'])\n",
        "new_data_point = np.array([6.0, 3.0, 4.0, 1.3])\n",
        "k = 3\n",
        "distances = np.sqrt(np.sum((X_train - new_data_point) ** 2, axis=1))\n",
        "nearest_indices = np.argsort(distances)[:k]\n",
        "nearest_classes = y_train[nearest_indices]\n",
        "unique_classes, counts = np.unique(nearest_classes, return_counts=True)\n",
        "predicted_class = unique_classes[np.argmax(counts)]\n",
        "print(\"Predicted class:\", predicted_class)"
      ],
      "metadata": {
        "colab": {
          "base_uri": "https://localhost:8080/"
        },
        "id": "dPutTy8dSwo6",
        "outputId": "b3da305e-39d7-4986-92f2-8c442446ff92"
      },
      "execution_count": null,
      "outputs": [
        {
          "output_type": "stream",
          "name": "stdout",
          "text": [
            "Predicted class: setosa\n"
          ]
        }
      ]
    }
  ]
}