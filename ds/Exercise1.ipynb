{
  "nbformat": 4,
  "nbformat_minor": 0,
  "metadata": {
    "colab": {
      "provenance": []
    },
    "kernelspec": {
      "name": "python3",
      "display_name": "Python 3"
    },
    "language_info": {
      "name": "python"
    }
  },
  "cells": [
    {
      "cell_type": "code",
      "execution_count": null,
      "metadata": {
        "colab": {
          "base_uri": "https://localhost:8080/"
        },
        "id": "PIUF1zoJFJAe",
        "outputId": "90b41a92-9ac3-4f0c-cd67-bd5feaf39161"
      },
      "outputs": [
        {
          "output_type": "stream",
          "name": "stdout",
          "text": [
            "      Name  Age           City\n",
            "0    Alice   25       New York\n",
            "1      Bob   30  San Francisco\n",
            "2  Charlie   22    Los Angeles\n",
            "3    David   35        Chicago\n",
            "4      Eva   28          Miami\n"
          ]
        }
      ],
      "source": [
        "import pandas as pd\n",
        "\n",
        "# Creating a DataFrame from a dictionary\n",
        "data = {'Name': ['Alice', 'Bob', 'Charlie', 'David', 'Eva'],\n",
        "        'Age': [25, 30, 22, 35, 28],\n",
        "        'City': ['New York', 'San Francisco', 'Los Angeles', 'Chicago', 'Miami']}\n",
        "\n",
        "df = pd.DataFrame(data)\n",
        "\n",
        "# Printing the DataFrame\n",
        "print(df)\n",
        "\n"
      ]
    },
    {
      "cell_type": "code",
      "source": [
        "import pandas as pd\n",
        "\n",
        "# Create a DataFrame\n",
        "data = {'A': [0,1, 2, 3, 4, 5],\n",
        "        'B': ['a', 'b', 'c', 'd', 'e','f']}\n",
        "df = pd.DataFrame(data)\n",
        "\n",
        "# Display the first 5 rows of the DataFrame\n",
        "df_head = df.head()\n",
        "print(df_head)\n"
      ],
      "metadata": {
        "colab": {
          "base_uri": "https://localhost:8080/"
        },
        "id": "Xqp5wEJOJXHi",
        "outputId": "b9fe1b69-2a54-4185-f4a7-1aca4cce9d80"
      },
      "execution_count": null,
      "outputs": [
        {
          "output_type": "stream",
          "name": "stdout",
          "text": [
            "   A  B\n",
            "0  0  a\n",
            "1  1  b\n",
            "2  2  c\n",
            "3  3  d\n",
            "4  4  e\n"
          ]
        }
      ]
    },
    {
      "cell_type": "code",
      "source": [
        "import pandas as pd\n",
        "\n",
        "# Create a Series\n",
        "data = [1,2,3,4,5,6,7,8,9,10, 20, 30, 40, 50,60,70,80,90,100]\n",
        "series = pd.Series(data)\n",
        "\n",
        "# Display the last 5 elements of the Series\n",
        "series_tail = series.tail()\n",
        "c=series.count()\n",
        "s=series.sum()\n",
        "m1=series.mean()\n",
        "m2=series.median()\n",
        "m3=series.mode()\n",
        "std=series.std()\n",
        "min=series.min()\n",
        "max=series.max()\n",
        "ab=series.abs()\n",
        "p=series.prod()\n",
        "cm=series.cumsum()\n",
        "cp=series.cumprod()\n",
        "print(\"Sum: \",s)\n",
        "print(\"Count: \",c)\n",
        "print(\"Mean: \",m1)\n",
        "print(\"Median: \",m2)\n",
        "print(\"Mode: \",m3)\n",
        "print(\"Std Dev: \",std)\n",
        "print(\"Minimum: \",min)\n",
        "print(\"Maximum: \",max)\n",
        "print(\"Abs val: \",ab)\n",
        "print(\"Product: \",p)\n",
        "print(\"Cum Sum: \",cm)\n",
        "print(\"Cum Product: \",cp)\n",
        "print(series_tail)\n",
        "series.describe()\n"
      ],
      "metadata": {
        "colab": {
          "base_uri": "https://localhost:8080/"
        },
        "id": "QO0xJRdCJvHP",
        "outputId": "bcb99d28-d9b7-4b59-c4d5-ede8982a1329"
      },
      "execution_count": null,
      "outputs": [
        {
          "output_type": "stream",
          "name": "stdout",
          "text": [
            "Sum:  595\n",
            "Count:  19\n",
            "Mean:  31.31578947368421\n",
            "Median:  10.0\n",
            "Mode:  0       1\n",
            "1       2\n",
            "2       3\n",
            "3       4\n",
            "4       5\n",
            "5       6\n",
            "6       7\n",
            "7       8\n",
            "8       9\n",
            "9      10\n",
            "10     20\n",
            "11     30\n",
            "12     40\n",
            "13     50\n",
            "14     60\n",
            "15     70\n",
            "16     80\n",
            "17     90\n",
            "18    100\n",
            "dtype: int64\n",
            "Std Dev:  33.459847631284454\n",
            "Minimum:  1\n",
            "Maximum:  100\n",
            "Abs val:  0       1\n",
            "1       2\n",
            "2       3\n",
            "3       4\n",
            "4       5\n",
            "5       6\n",
            "6       7\n",
            "7       8\n",
            "8       9\n",
            "9      10\n",
            "10     20\n",
            "11     30\n",
            "12     40\n",
            "13     50\n",
            "14     60\n",
            "15     70\n",
            "16     80\n",
            "17     90\n",
            "18    100\n",
            "dtype: int64\n",
            "Product:  -2785828628619853824\n",
            "Cum Sum:  0       1\n",
            "1       3\n",
            "2       6\n",
            "3      10\n",
            "4      15\n",
            "5      21\n",
            "6      28\n",
            "7      36\n",
            "8      45\n",
            "9      55\n",
            "10     75\n",
            "11    105\n",
            "12    145\n",
            "13    195\n",
            "14    255\n",
            "15    325\n",
            "16    405\n",
            "17    495\n",
            "18    595\n",
            "dtype: int64\n",
            "Cum Product:  0                       1\n",
            "1                       2\n",
            "2                       6\n",
            "3                      24\n",
            "4                     120\n",
            "5                     720\n",
            "6                    5040\n",
            "7                   40320\n",
            "8                  362880\n",
            "9                 3628800\n",
            "10               72576000\n",
            "11             2177280000\n",
            "12            87091200000\n",
            "13          4354560000000\n",
            "14        261273600000000\n",
            "15      18289152000000000\n",
            "16    1463132160000000000\n",
            "17    2554685884033138688\n",
            "18   -2785828628619853824\n",
            "dtype: int64\n",
            "14     60\n",
            "15     70\n",
            "16     80\n",
            "17     90\n",
            "18    100\n",
            "dtype: int64\n"
          ]
        },
        {
          "output_type": "execute_result",
          "data": {
            "text/plain": [
              "count     19.000000\n",
              "mean      31.315789\n",
              "std       33.459848\n",
              "min        1.000000\n",
              "25%        5.500000\n",
              "50%       10.000000\n",
              "75%       55.000000\n",
              "max      100.000000\n",
              "dtype: float64"
            ]
          },
          "metadata": {},
          "execution_count": 13
        }
      ]
    }
  ]
}